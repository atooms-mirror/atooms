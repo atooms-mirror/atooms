{
 "cells": [
  {
   "cell_type": "markdown",
   "id": "63f30359",
   "metadata": {},
   "source": [
    "Simulations\n",
    "===========\n",
    "\n",
    "The atooms\\' interface abstracts out most of the common tasks of\n",
    "particle-based simulations. The actual simulation is performed by a\n",
    "simulation \\\"backend\\\", which exposes a minimal but consistent\n",
    "interface. This enables one to develop complex simulation frameworks\n",
    "(e.g., [parallel\n",
    "tempering](https://framagit.org/atooms/parallel_tempering)) that are\n",
    "essentially decoupled from the underlying simulation code.\n",
    "\n",
    "A **Simulation** is a high-level class that encapsulates some common\n",
    "tasks, like regularly storing data on files, and provides a consistent\n",
    "interface to the user, while **backend** classes actually make the\n",
    "system evolve. Here, we implement a minimal backend to run a simulation.\n",
    "\n",
    "At a very minimum, a backend is a class that provides\n",
    "\n",
    "-   a **system** instance variable, which should (mostly) behave like\n",
    "    `atooms.system.System`\n",
    "-   a **run()** method, which evolves the system for a prescribed number\n",
    "    of steps (passed as argument)\n",
    "\n",
    "Optionally, the backend may hold a reference to a trajectory class,\n",
    "which can be used to checkpoint the simulation or to write\n",
    "configurations to a file. This is however not required in a first stage.\n",
    "\n",
    "A minimal simulation backend\n",
    "----------------------------\n",
    "\n",
    "We set up a bare-bones simulation backend building on the native System\n",
    "class\n"
   ]
  },
  {
   "cell_type": "code",
   "execution_count": null,
   "id": "0e575654",
   "metadata": {},
   "outputs": [],
   "source": [
    "from atooms.system import System\n",
    "\n",
    "class BareBonesBackend(object):\n",
    "    \n",
    "    def __init__(self):\n",
    "        self.system = System()\n",
    "\n",
    "    def run(self, steps):\n",
    "        for i in range(steps):\n",
    "            pass\n",
    "\n",
    "# The backend is created and wrapped by a simulation object.\n",
    "# Here we first call the run() method then run_until()\n",
    "from atooms.simulation import Simulation\n",
    "backend = BareBonesBackend()\n",
    "simulation = Simulation(backend)\n",
    "simulation.run(10)\n",
    "simulation.run_until(30)\n",
    "assert simulation.current_step == 30\n",
    "\n",
    "# This time we call run() multiple times \n",
    "simulation = Simulation(backend)\n",
    "simulation.run(10)\n",
    "simulation.run(20)\n",
    "assert simulation.current_step == 30  \n",
    "\n",
    "# Increase verbosity to see a meaningful log\n",
    "from atooms.core.utils import setup_logging\n",
    "setup_logging(level=20)\n",
    "simulation = Simulation(backend)\n",
    "simulation.run(10)  "
   ]
  },
  {
   "cell_type": "markdown",
   "id": "895207e9",
   "metadata": {},
   "source": [
    "Simple random walk\n",
    "------------------\n",
    "\n",
    "We implement a simple random walk in 3d. This requires adding code to\n",
    "the backend `run()` method to actually move the particles around. The\n",
    "code won\\'t be very fast! See below *how to implement a backend\n",
    "efficiently*.\n",
    "\n",
    "We start by building an empty system. Then we add a few particles and\n",
    "place them at random in a cube. Finally, we write a backend that\n",
    "displaces each particle randomly over a cube of prescribed side.\n"
   ]
  },
  {
   "cell_type": "code",
   "execution_count": null,
   "id": "8d461955",
   "metadata": {},
   "outputs": [],
   "source": [
    "import numpy\n",
    "from random import random\n",
    "from atooms.system import System\n",
    "from atooms.system.particle import Particle\n",
    "\n",
    "system = System()\n",
    "L = 10\n",
    "for i in range(1000):\n",
    "    p = Particle(position=[L * random(), L * random(), L * random()])\n",
    "    system.particle.append(p)\n",
    "\n",
    "class RandomWalk(object):\n",
    "\n",
    "    def __init__(self, system, delta=1.0):\n",
    "        self.system = system\n",
    "        self.delta = delta\n",
    "\n",
    "    def run(self, steps):\n",
    "        for i in range(steps):\n",
    "            for p in self.system.particle:\n",
    "                dr = numpy.array([random()-0.5, random()-0.5, random()-0.5])\n",
    "                dr *= self.delta\n",
    "                p.position += dr"
   ]
  },
  {
   "cell_type": "markdown",
   "id": "1b6a813f",
   "metadata": {},
   "source": [
    "Adding callbacks to log while the simulation is running\n",
    "-------------------------------------------------------\n",
    "\n",
    "The Simulation class allows to execute of arbitrary code during the\n",
    "simulation via \\\"callbacks\\\". This mechanism can be used to write logs\n",
    "or particle configurations to file, or to perform on-the-fly\n",
    "calculations of the system properties. Callbacks are plain function that\n",
    "accept the simulation object as first argument. They are called at\n",
    "prescribed intervals during the simulation.\n",
    "\n",
    "Here we measure the mean square displacement (MSD) of the particles to\n",
    "make sure that the system displays a regular diffusive behavior\n",
    "$MSD \\sim t$\n"
   ]
  },
  {
   "cell_type": "code",
   "execution_count": null,
   "id": "e2d2bc15",
   "metadata": {},
   "outputs": [],
   "source": [
    "from atooms.simulation import Simulation\n",
    "simulation = Simulation(RandomWalk(system))\n",
    "\n",
    "# We add a callback that computes the MSD every 10 steps\n",
    "# We store the result in a dictionary passed to the callback\n",
    "msd_db = {}\n",
    "def cbk(sim, initial_position, db):\n",
    "    msd = 0.0\n",
    "    for i, p in enumerate(sim.system.particle):\n",
    "        dr = p.position - initial_position[i]\n",
    "        msd += numpy.sum(dr**2)\n",
    "    msd /= len(sim.system.particle)\n",
    "    db[sim.current_step] = msd\n",
    "\n",
    "# We will execute the callback every 10 steps\n",
    "simulation.add(cbk, 10, initial_position=[p.position.copy() for p in\n",
    "                                          system.particle], db=msd_db)\n",
    "simulation.run(50)\n",
    "\n",
    "# The MSD should increase linearly with time\n",
    "time = sorted(msd_db.keys())\n",
    "msd = [msd_db[t] for t in time]\n",
    "\n",
    "import matplotlib.pyplot as plt\n",
    "plt.cla()\n",
    "plt.plot(time, msd, '-o')\n",
    "plt.xlabel(\"t\")\n",
    "plt.ylabel(\"MSD\")\n",
    "plt.savefig('msd.png')"
   ]
  },
  {
   "cell_type": "markdown",
   "id": "72b6a176",
   "metadata": {},
   "source": [
    "The MSD as a function of time should look linear. ![](msd.png)\n",
    "\n",
    "Fine-tuning the scheduler\n",
    "-------------------------\n",
    "\n",
    "Calling a callback can be done at regular intervals during the\n",
    "simulation or according to a custom schedule defined by a `Scheduler`.\n",
    "Here we consider the `simulation.write_trajectory()` callback, which\n",
    "writes the system state in a trajectory file\n"
   ]
  },
  {
   "cell_type": "code",
   "execution_count": null,
   "id": "640e20f0",
   "metadata": {},
   "outputs": [],
   "source": [
    "from atooms.trajectory import TrajectoryXYZ\n",
    "from atooms.simulation import write_trajectory\n",
    "\n",
    "simulation = Simulation(RandomWalk(system))\n",
    "trajectory = TrajectoryXYZ('/tmp/trajectory.xyz', 'w')\n",
    "# Write every 10 steps\n",
    "simulation.add(write_trajectory, Scheduler(10), trajectory=trajectory)"
   ]
  },
  {
   "cell_type": "markdown",
   "id": "09c766c8",
   "metadata": {},
   "source": [
    "Here are a few options of the Scheduler:\n",
    "\n",
    "-   `interval`: notify at a fixed steps interval (default)\n",
    "-   `calls`: fixed number of calls to the callback\n",
    "-   `steps`: list of steps at which the callback will be called\n",
    "-   `block`: as steps, but the callback will be called periodically\n",
    "-   `seconds`: notify every `seconds`\n",
    "\n",
    "One useful application of the Scheduler is writing frames in a\n",
    "trajectory at exponentialy spaced intervals. Here the\n"
   ]
  },
  {
   "cell_type": "code",
   "execution_count": null,
   "id": "61b23430",
   "metadata": {},
   "outputs": [],
   "source": [
    "trajectory_exp = TrajectoryXYZ('/tmp/trajectory_exp.xyz', 'w')\n",
    "simulation.add(write_trajectory, Scheduler(block=[0, 1, 2, 4, 8, 16]), trajectory=trajectory_exp)\n",
    "simulation.run(32)\n",
    "trajectory.close()\n",
    "trajectory_exp.close()"
   ]
  },
  {
   "cell_type": "markdown",
   "id": "e28f8092",
   "metadata": {},
   "source": [
    "Now we will have two trajectories, one with regular and the other with\n",
    "exponentially spaced blocks of frames\n"
   ]
  },
  {
   "cell_type": "code",
   "execution_count": null,
   "id": "e37a5f1e",
   "metadata": {},
   "outputs": [],
   "source": [
    "with TrajectoryXYZ('/tmp/trajectory.xyz') as th, \\\n",
    "     TrajectoryXYZ('/tmp/trajectory_exp.xyz') as th_exp:\n",
    "    print('Regular:', th.steps)\n",
    "    print('Exponential:', th_exp.steps)"
   ]
  },
  {
   "cell_type": "markdown",
   "id": "b888193c",
   "metadata": {},
   "source": [
    "Regular: \\[0, 10, 20, 30\\] Exponential: \\[0, 1, 2, 4, 8, 16, 17, 18, 20,\n",
    "24, 32\\]\n",
    "\n",
    "Computing statistical averages\n",
    "------------------------------\n",
    "\n",
    "The `simulation.store()` callback allows you to store data in a\n",
    "dictionary while the simulation is running. Here are a few ways to use\n",
    "it to perform some statistical analysis.\n",
    "\n",
    "The `store` callback accepts an array of arguments to store. They can be\n",
    "string matching a few predefined attributes (such as `steps`, the\n",
    "current number of steps carried out by the backend) or a general\n",
    "attribute of the `simulation` instance (such as\n",
    "`system.particle[0].position[0]`, the x-coordinate of the first particle\n",
    "of the system).\n"
   ]
  },
  {
   "cell_type": "code",
   "execution_count": null,
   "id": "1a214a78",
   "metadata": {},
   "outputs": [],
   "source": [
    "import numpy\n",
    "from atooms.simulation import store\n",
    "\n",
    "simulation = Simulation(RandomWalk(system))\n",
    "simulation.add(store, 1, ['steps', 'system.particle[0].position[0]'])"
   ]
  },
  {
   "cell_type": "markdown",
   "id": "ad326ed7",
   "metadata": {},
   "source": [
    "By default, after running the simulation, the data will be stored in the\n",
    "`simulation.data` dictionary and you can use it for further analysis\n"
   ]
  },
  {
   "cell_type": "code",
   "execution_count": null,
   "id": "a1d401fa",
   "metadata": {},
   "outputs": [],
   "source": [
    "import numpy\n",
    "simulation.run(10)\n",
    "print(numpy.mean(simulation.data['system.particle[0].position[0]']))"
   ]
  },
  {
   "cell_type": "markdown",
   "id": "9496a008",
   "metadata": {},
   "source": [
    "-9.112113813995027\n",
    "\n",
    "You can call any function taking as first argument the simulation\n",
    "instance and collect the results in the `simulation.data` dictionary\n",
    "like this\n"
   ]
  },
  {
   "cell_type": "code",
   "execution_count": null,
   "id": "b9c0644a",
   "metadata": {},
   "outputs": [],
   "source": [
    "simulation = Simulation(RandomWalk(system))\n",
    "simulation.add(store, 1, ['steps', ('x_1', lambda sim: sim.system.particle[1].position[0])])\n",
    "simulation.run(10)"
   ]
  },
  {
   "cell_type": "markdown",
   "id": "a12afd23",
   "metadata": {},
   "source": [
    "Faster backends\n",
    "---------------\n",
    "\n",
    "Moving particles using the `Particle` object interface is expressive but\n",
    "computationally very slow, since it forces us to operate one particle at\n",
    "a time. We can write a more efficient backend by getting a \\\"view\\\" of\n",
    "the system\\'s coordinates and operating on the vectorially or passing\n",
    "them to backends written in compiled languages (even just in time).\n"
   ]
  },
  {
   "cell_type": "code",
   "execution_count": null,
   "id": "03bcb406",
   "metadata": {},
   "outputs": [],
   "source": [
    "import numpy\n",
    "from atooms.system import System\n",
    "\n",
    "# Create a system with 10 particles\n",
    "system = System(N=10)\n",
    "\n",
    "class FastRandomWalk(object):\n",
    "\n",
    "    def __init__(self, system, delta=1.0):\n",
    "        self.system = system\n",
    "        self.delta = delta\n",
    "\n",
    "    def run(self, steps):\n",
    "        # Get a view on the particles' position\n",
    "        pos = self.system.view(\"position\")\n",
    "        for i in range(steps):\n",
    "            dr = (numpy.random(pos.shape) - 0.5) * self.delta\n",
    "            # Operate on array in-place\n",
    "            pos += dr"
   ]
  },
  {
   "cell_type": "markdown",
   "id": "e9062c5e",
   "metadata": {},
   "source": [
    "It is crucial to operate on the `pos` array in-place: this way the\n",
    "positions of the `Particle` objects will remain in sync with those of\n",
    "the `pos` array.\n",
    "\n",
    "The viewed array can be cast in C-order (default) or F-order using the\n",
    "`order` parameter\n"
   ]
  },
  {
   "cell_type": "code",
   "execution_count": null,
   "id": "7ca8a84d",
   "metadata": {},
   "outputs": [],
   "source": [
    "system.view(\"position\", order='C')  # default\n",
    "system.view(\"position\", order='F')"
   ]
  },
  {
   "cell_type": "markdown",
   "id": "2cebfc86",
   "metadata": {},
   "source": [
    "You can get a view of any system property by providing a \\\"fully\n",
    "qualified\\\" attribute\n"
   ]
  },
  {
   "cell_type": "code",
   "execution_count": null,
   "id": "15520e53",
   "metadata": {},
   "outputs": [],
   "source": [
    "assert system.view(\"cell.side\") == system.cell.side"
   ]
  },
  {
   "cell_type": "markdown",
   "id": "03f8cb25",
   "metadata": {},
   "source": [
    "In particular, for particles\\' attributes you can use this syntax\n"
   ]
  },
  {
   "cell_type": "code",
   "execution_count": null,
   "id": "97eb3ff3",
   "metadata": {},
   "outputs": [],
   "source": [
    "assert numpy.all(system.view(\"particle.position\") == system.view(\"pos\"))"
   ]
  },
  {
   "cell_type": "markdown",
   "id": "6baff1bc",
   "metadata": {},
   "source": [
    "Molecular dynamics with LAMMPS\n",
    "------------------------------\n",
    "\n",
    "Atooms provides a simulation backend for `LAMMPS`, an efficient and\n",
    "feature-rich molecular dynamics simulation package. The backend accepts\n",
    "a string variable containing regular LAMMPS commands and initial\n",
    "configuration to start the simulation. The latter can be provided in any\n",
    "of the following forms:\n",
    "\n",
    "-   a `System` object\n",
    "-   a `Trajectory` object\n",
    "-   the path to an xyz trajectory\n",
    "\n",
    "In the last two cases, the last configuration will be used to start the\n",
    "simulation.\n",
    "\n",
    "Here we we use the first configuration of an existing trajectory for a\n",
    "Lennard-Jones fluid\n"
   ]
  },
  {
   "cell_type": "code",
   "execution_count": null,
   "id": "b54fcf5d",
   "metadata": {},
   "outputs": [],
   "source": [
    "import os\n",
    "import atooms.trajectory as trj\n",
    "from atooms.backends import lammps\n",
    "\n",
    "# You can change it so that it points to the LAMMPS executable\n",
    "lammps.lammps_command = 'lmp'\n",
    "\n",
    "system = trj.TrajectoryXYZ('data/lj_N1000_rho1.0.xyz')[0]\n",
    "cmd = \"\"\"\n",
    "pair_style      lj/cut 2.5\n",
    "pair_coeff      1 1 1.0 1.0  2.5\n",
    "neighbor        0.3 bin\n",
    "neigh_modify    check yes\n",
    "timestep        0.002\n",
    "\"\"\"\n",
    "backend = LAMMPS(system, cmd)"
   ]
  },
  {
   "cell_type": "markdown",
   "id": "8c62c82d",
   "metadata": {},
   "source": [
    "We now wrap the backend in a simulation instance. This way we can rely\n",
    "on atooms to write thermodynamic data and configurations to disk during\n",
    "the simulation: we just add the `write_config()` and `write_thermo()`\n",
    "callbacks to the simulation. You can add your own functions as callbacks\n",
    "to perform arbitrary manipulations on the system during the simulation.\n",
    "Keep in mind that calling these functions causes some overhead, so avoid\n",
    "calling them at too short intervals.\n"
   ]
  },
  {
   "cell_type": "code",
   "execution_count": null,
   "id": "a82664e6",
   "metadata": {},
   "outputs": [],
   "source": [
    "from atooms.simulation import Simulation\n",
    "from atooms.system import Thermostat\n",
    "from atooms.simulation.observers import write_thermo, write_config\n",
    "\n",
    "# We create the simulation instance and set the output path\n",
    "sim = Simulation(backend, output_path='/tmp/lammps.xyz')\n",
    "# Just store a reference to the trajectory class you want to use\n",
    "sim.trajectory_class = trj.TrajectoryXYZ\n",
    "# Write configurations every 500 steps in xyz format\n",
    "sim.add(write_config, 500)\n",
    "# Store thermodynamic properties every 10 steps\n",
    "sim.add(store, 100, ['steps', 'potential energy per particle', 'temperature'])"
   ]
  },
  {
   "cell_type": "markdown",
   "id": "da0c9dd5",
   "metadata": {},
   "source": [
    "We add a thermostat to keep the system temperature at T=2.0 and run the\n",
    "simulations for 10000 steps.\n"
   ]
  },
  {
   "cell_type": "code",
   "execution_count": null,
   "id": "84d6e7db",
   "metadata": {},
   "outputs": [],
   "source": [
    "backend.system.thermostat = Thermostat(temperature=2.0, relaxation_time=0.1)\n",
    "sim.run(10000)"
   ]
  },
  {
   "cell_type": "markdown",
   "id": "814a0586",
   "metadata": {},
   "source": [
    "Note that we use atooms `Thermostat` object here: the backend will take\n",
    "care of adding appropriate commands to the LAMMPS script.\n",
    "\n",
    "We have a quick look at the kinetic temperature as function of time to\n",
    "make sure the thermostat is working\n"
   ]
  },
  {
   "cell_type": "code",
   "execution_count": null,
   "id": "62bd541f",
   "metadata": {},
   "outputs": [],
   "source": [
    "import matplotlib.pyplot as plt\n",
    "plt.plot(sim.data['steps'], sim.data['temperature'])\n",
    "plt.xlabel('Steps')\n",
    "plt.ylabel('Temperature')\n",
    "plt.savefig('lammps.png')\n",
    "plt.show()"
   ]
  },
  {
   "cell_type": "markdown",
   "id": "e429f941",
   "metadata": {},
   "source": [
    "![](./lammps.png)\n",
    "\n",
    "We can then use the\n",
    "[postprocessing](https://gitlab.info-ufr.univ-montp2.fr/atooms/postprocessing/)\n",
    "package to compute the radial distribution function or any other\n",
    "correlation function from the trajectory.\n",
    "\n",
    "Molecular dynamics simulation with RUMD\n",
    "---------------------------------------\n",
    "\n",
    "There is native support for an efficient MD molecular dynamics code\n",
    "running entirely on GPU called [RUMD](https://rumd.org), developed by\n",
    "the Glass and Time group in Roskilde. It is optimized for small and\n",
    "medium-size systems.\n",
    "\n",
    "Here we pick the last frame of the trajectory, change the density of the\n",
    "system to unity and write this new configuration to a trajectory format\n",
    "suitable for RUMD\n"
   ]
  },
  {
   "cell_type": "code",
   "execution_count": null,
   "id": "c192eb46",
   "metadata": {},
   "outputs": [],
   "source": [
    "with Trajectory('input.xyz') as trajectory:\n",
    "    system = trajectory[-1]\n",
    "    system.density = 1.0\n",
    "    print('New density:', len(system.particle) / system.cell.volume)\n",
    "\n",
    "from atooms.trajectory import TrajectoryRUMD\n",
    "with TrajectoryRUMD('rescaled.xyz.gz', 'w') as trajectory:\n",
    "    trajectory.write(system)"
   ]
  },
  {
   "cell_type": "markdown",
   "id": "e093973c",
   "metadata": {},
   "source": [
    "Now we run a short molecular dynamics simulation with the `RUMD`\n",
    "backend, using a Lennard-Jones potential:\n"
   ]
  },
  {
   "cell_type": "code",
   "execution_count": null,
   "id": "5669f2f2",
   "metadata": {},
   "outputs": [],
   "source": [
    "import rumd\n",
    "from atooms.backends.rumd import RUMD\n",
    "from atooms.simulation import Simulation\n",
    "\n",
    "potential = rumd.Pot_LJ_12_6(cutoff_method=rumd.ShiftedPotential)\n",
    "potential.SetParams(i=0, j=0, Epsilon=1.0, Sigma=1.0, Rcut=2.5)\n",
    "backend = RUMD('rescaled.xyz.gz', [potential], integrator='nve'\n",
    "sim = Simulation(backend)\n",
    "sim.run(1000)\n",
    "print('Final temperature and density:', sim.system.temperature, sim.system.density)"
   ]
  },
  {
   "cell_type": "markdown",
   "id": "b7f0384b",
   "metadata": {},
   "source": [
    "A repository of interaction models for simple liquids and glasses is\n",
    "available in the [atooms-models](https://framagit.org/atooms/models)\n",
    "component package. It generates RUMD potentials automatically from\n",
    "standardized json file or Python dictionaries.\n",
    "\n",
    "Energy minimization with LAMMPS\n",
    "-------------------------------\n",
    "\n",
    "It is possible to minimize the energy of a system to determine its\n",
    "so-called inherent structure using LAMMPS as a backend. To achieve this,\n",
    "atooms defines an `Optimization` class, which behaves mostly as\n",
    "`Simulation` except that it stops when the mean square total force $$\n",
    "W=\\frac{1}{N}\\sum_i |f_i|^2\n",
    "$$ is lower than a given `tolerance`.\n"
   ]
  },
  {
   "cell_type": "code",
   "execution_count": null,
   "id": "4179faa9",
   "metadata": {},
   "outputs": [],
   "source": [
    "from atooms.trajectory import TrajectoryXYZ\n",
    "from atooms.optimization import Optimization\n",
    "from atooms.backends.lammps import EnergyMinimization\n",
    "cmd = \"\"\"\n",
    "pair_style      lj/cut 2.5\n",
    "pair_modify     shift yes\n",
    "pair_coeff      1 1 1.0 1.0 2.5\n",
    "\"\"\"\n",
    "system = TrajectoryXYZ('../../data/lj_N256_rho1.0.xyz')[0]\n",
    "bck = EnergyMinimization(system, cmd)\n",
    "opt = Optimization(bck, tolerance=1e-10)\n",
    "opt.run()"
   ]
  },
  {
   "cell_type": "markdown",
   "id": "ccd7d7c5",
   "metadata": {},
   "source": [
    "We check that $W$ is lower than the requested tolerance\n"
   ]
  },
  {
   "cell_type": "code",
   "execution_count": null,
   "id": "40b26eed",
   "metadata": {},
   "outputs": [],
   "source": [
    "e_final = system.potential_energy(per_particle=True)\n",
    "w_final = system.force_norm_square(per_particle=True)\n",
    "print('Energy={}, mean square force={:.2g}'.format(e_final, w_final))"
   ]
  }
 ],
 "metadata": {},
 "nbformat": 4,
 "nbformat_minor": 5
}
