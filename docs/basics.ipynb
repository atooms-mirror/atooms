{
 "cells": [
  {
   "cell_type": "markdown",
   "id": "fe9eaca4",
   "metadata": {},
   "source": [
    "Basics\n",
    "======\n",
    "\n",
    "Atooms provides a high-level interface to the main objects of\n",
    "particle-based simulations. It mostly focuses on classical molecular\n",
    "dynamics and Monte Carlo simulations, but it is not limited to that. It\n",
    "can be used to simulate and analyze lattice models such as TASEP or\n",
    "kinetically constrained models.\n",
    "\n",
    "We will start by having a look at the basic objects of particle-based\n",
    "simulations and how to store them on a file.\n",
    "\n",
    "Particles\\' properties\n",
    "----------------------\n",
    "\n",
    "Particles\\' positions are stored as numpy arrays, but we can pass a\n",
    "simple list with x, y, z coordinates when we create them\n"
   ]
  },
  {
   "cell_type": "code",
   "execution_count": null,
   "id": "7a1fe692",
   "metadata": {},
   "outputs": [],
   "source": [
    "from atooms.system.particle import Particle\n",
    "particle = Particle(position=[1.0, 0.0, 0.0])\n",
    "print(particle.position, type(particle.position))"
   ]
  },
  {
   "cell_type": "markdown",
   "id": "9ac59650",
   "metadata": {},
   "source": [
    "Particles can live in an arbitrary number of spatial dimensions\n"
   ]
  },
  {
   "cell_type": "code",
   "execution_count": null,
   "id": "f02cb407",
   "metadata": {},
   "outputs": [],
   "source": [
    "particle = Particle(position=[1.0, 0.0, 0.0, 0.0, 0.0])\n",
    "print(len(particle.position))"
   ]
  },
  {
   "cell_type": "markdown",
   "id": "596f7e49",
   "metadata": {},
   "source": [
    "By default, particles have a few more properties such as velocity,\n",
    "chemical species, mass and radius. They can all be altered at will or\n",
    "even set to None.\n"
   ]
  },
  {
   "cell_type": "code",
   "execution_count": null,
   "id": "1bd26e36",
   "metadata": {},
   "outputs": [],
   "source": [
    "import numpy\n",
    "particle = Particle(position=[1.0, 0.0, 0.0], velocity=[1.0, 0.0, 0.0])\n",
    "particle.species = 'Na'\n",
    "particle.position += numpy.array([0.0, 1.0, 1.0])\n",
    "particle.velocity *= 2\n",
    "particle.radius = None  # point particles have no radius\n",
    "print(particle)"
   ]
  },
  {
   "cell_type": "markdown",
   "id": "3927bae7",
   "metadata": {},
   "source": [
    "You may want to add physical properties to particles, like charge or\n",
    "whatever. Of course, in python you can do it very easily\n"
   ]
  },
  {
   "cell_type": "code",
   "execution_count": null,
   "id": "5360fe6e",
   "metadata": {},
   "outputs": [],
   "source": [
    "particle.charge = -1.0"
   ]
  },
  {
   "cell_type": "markdown",
   "id": "8d31d3e1",
   "metadata": {},
   "source": [
    "This won\\'t break anything!\n",
    "\n",
    "Dealing with velocities\n",
    "-----------------------\n",
    "\n",
    "You may not need velocities at all (for instance because you are working\n",
    "with Monte Carlo simulations) but if you do, atooms provides a few\n",
    "useful methods and functions. For instance, you can assign velocity from\n",
    "a Maxwell-Boltzmann distribution at a temperature T.\n"
   ]
  },
  {
   "cell_type": "code",
   "execution_count": null,
   "id": "21ab5c29",
   "metadata": {},
   "outputs": [],
   "source": [
    "particle = [Particle() for i in range(1000)]\n",
    "for p in particle:\n",
    "    p.maxwellian(T=1.0)\n",
    "ekin = sum([p.kinetic_energy for p in particle])\n",
    "ndim = 3\n",
    "ndof = len(particle) * ndim\n",
    "T = 2.0 / ndof * ekin\n",
    "print(T)"
   ]
  },
  {
   "cell_type": "markdown",
   "id": "aaf6e002",
   "metadata": {},
   "source": [
    "Doing so will leave a non-zero total momentum, but we can fix it (note\n",
    "that all masses are equal)\n"
   ]
  },
  {
   "cell_type": "code",
   "execution_count": null,
   "id": "e8e3d530",
   "metadata": {},
   "outputs": [],
   "source": [
    "from atooms.system.particle import fix_total_momentum, cm_velocity\n",
    "print(cm_velocity(particle))\n",
    "fix_total_momentum(particle)\n",
    "print(cm_velocity(particle))"
   ]
  },
  {
   "cell_type": "markdown",
   "id": "f5cc109a",
   "metadata": {},
   "source": [
    "Boundary conditions\n",
    "-------------------\n",
    "\n",
    "To avoid major finite size effects, we enclose particles in a cell with\n",
    "periodic boundary conditions. By convention, the cell origin is at the\n",
    "origin of the reference frame.\n"
   ]
  },
  {
   "cell_type": "code",
   "execution_count": null,
   "id": "8d0eb920",
   "metadata": {},
   "outputs": [],
   "source": [
    "from atooms.system.cell import Cell\n",
    "L = 2.0\n",
    "cell = Cell(side=[L, L, L])\n",
    "print(cell.side, cell.volume)"
   ]
  },
  {
   "cell_type": "markdown",
   "id": "94143397",
   "metadata": {},
   "source": [
    "Atooms provides means to fold particles back in the \\\"central\\\"\n",
    "simulation cell, i.e. the one centered at the origin at the reference\n",
    "frame. For simplicity, let us work with particles in 1d.\n"
   ]
  },
  {
   "cell_type": "code",
   "execution_count": null,
   "id": "183d9912",
   "metadata": {},
   "outputs": [],
   "source": [
    "cell = Cell(side=[1.0])\n",
    "particle = Particle(position=[2.0])  # particle outside the central cell\n",
    "particle.fold(cell)\n",
    "print(particle.position)"
   ]
  },
  {
   "cell_type": "markdown",
   "id": "d4971d65",
   "metadata": {},
   "source": [
    "The particle is now folded back at the origin.\n",
    "\n",
    "A related method returns the nearest periodic image of a given particle\n",
    "with respect to another particle\n"
   ]
  },
  {
   "cell_type": "code",
   "execution_count": null,
   "id": "a8d72f78",
   "metadata": {},
   "outputs": [],
   "source": [
    "particle_1 = Particle(position=[-0.45])\n",
    "particle_2 = Particle(position=[+0.45])\n",
    "image = particle_1.nearest_image(particle_2, cell, copy=True)\n",
    "print(image)"
   ]
  },
  {
   "cell_type": "markdown",
   "id": "45deaa9b",
   "metadata": {},
   "source": [
    "The System object\n",
    "-----------------\n",
    "\n",
    "Objects like particles and the simulation cell can be gathered in an\n",
    "instance of a god-like class called System. The system contains all the\n",
    "relevant physical objects of your simulation. Reservoirs like\n",
    "thermostats, barostats and particle reservoirs can be added as well.\n",
    "These objects are placeholders for thermodynamic state variables like\n",
    "temperature, pressure or chemical potential. Any class meant to describe\n",
    "the interaction between particles also belongs to the system.\n",
    "\n",
    "Let us build a system with a few particles in a cell and use the system\n",
    "methods to modify the system density and temperature. Note that density\n",
    "and temperature are python properties and thus modify the attributes of\n",
    "particles and cell under the hoods using the `set_density` and\n",
    "`set_temperature` methods respectively\n"
   ]
  },
  {
   "cell_type": "code",
   "execution_count": null,
   "id": "d6011be7",
   "metadata": {},
   "outputs": [],
   "source": [
    "from atooms.system import System\n",
    "system = System(particle=[Particle() for i in range(100)],\n",
    "\t\tcell=Cell([10.0, 10.0, 10.0]))\n",
    "system.density = 1.2  # equivalent to system.set_density(1.2)\n",
    "system.temperature = 1.5  # equivalent to system.set_temperature(1.2)\n",
    "print(system.density, system.temperature)"
   ]
  },
  {
   "cell_type": "markdown",
   "id": "86d99c2a",
   "metadata": {},
   "source": [
    "Note that the system temperature is the kinetic one and need not\n",
    "coincide with the one of the thermostat.\n"
   ]
  },
  {
   "cell_type": "code",
   "execution_count": null,
   "id": "5d9f84f0",
   "metadata": {},
   "outputs": [],
   "source": [
    "from atooms.system import Thermostat\n",
    "system.thermostat = Thermostat(temperature=1.0)\n",
    "system.temperature = 1.5  # equivalent to system.set_temperature(1.2)\n",
    "print(round(system.temperature, 2), system.thermostat.temperature)"
   ]
  },
  {
   "cell_type": "markdown",
   "id": "56c602cc",
   "metadata": {},
   "source": [
    "Interaction and backends\n",
    "------------------------\n",
    "\n",
    "Classical particles interact with each other via a potential\n",
    "$u(\\{r_i\\})$, where $\\{r_i\\}$ is the set of particles\\' coordinates.\n",
    "Atooms relies on third-party efficient **backends** written in C,\n",
    "Fortran or CUDA to actually compute the interaction between the\n",
    "particles. Here we will use the LAMMPS backend, see Molecular dynamics\n",
    "ith LAMMPS for further details. It accepts a string variable that\n",
    "defines the interaction potential using the LAMMPS syntax, see\n",
    "<https://lammps.sandia.gov/doc/pair_style.html>, and stores a reference\n",
    "to the system object of which we want to compute the energy.\n",
    "\n",
    "As proof of principle, we compute the interaction energy between two\n",
    "Lennard-Jones particles\n"
   ]
  },
  {
   "cell_type": "code",
   "execution_count": null,
   "id": "eaaeffcd",
   "metadata": {},
   "outputs": [],
   "source": [
    "from atooms.system import System, Particle, Cell\n",
    "from atooms.backends import lammps\n",
    "\n",
    "lammps.lammps_command = 'lmp'\n",
    "\n",
    "x = 1.122  # Minimum of the potential\n",
    "system = System(particle=[Particle(position=[0.0, 0.0, 0.0]),\n",
    "\t\t\t  Particle(position=[x, 0.0, 0.0])],\n",
    "\t\tcell=Cell([10.0, 10.0, 10.0]))\n",
    "cmd = \"\"\"\n",
    "pair_style      lj/cut 2.5\n",
    "pair_coeff      1 1 1.0 1.0  2.5\n",
    "\"\"\"\n",
    "# The backend will add an interaction to the system\n",
    "backend =  lammps.LAMMPS(system, cmd)\n",
    "\n",
    "# Compute and get the potential energy\n",
    "# The cache option allows to get the potential energy without recalculating it\n",
    "print(system.potential_energy(), system.potential_energy(cache=True))"
   ]
  },
  {
   "cell_type": "markdown",
   "id": "1d68f8df",
   "metadata": {},
   "source": [
    "The energy and forces are stored in `system.interaction.energy` and\n",
    "`system.interaction.forces`.\n",
    "\n",
    "Trajectory files\n",
    "----------------\n",
    "\n",
    "To write the state of the system to a file, we use a `Trajectory` class.\n",
    "Trajectories are composed of multiple frames, each one holding the state\n",
    "of the system at a given step during the simulation. We use a basic xyz\n",
    "format to write the state of the system and then parse the trajectory\n",
    "file we produced to see how it looks like.\n"
   ]
  },
  {
   "cell_type": "code",
   "execution_count": null,
   "id": "1b66bc23",
   "metadata": {},
   "outputs": [],
   "source": [
    "from atooms.trajectory import TrajectoryXYZ\n",
    "\n",
    "system = System(N=4)\n",
    "system.cell = Cell([10.0, 10.0, 10.0])\n",
    "\n",
    "# Open the trajectory in write mode and write the state of the system\n",
    "# at step 0\n",
    "with TrajectoryXYZ('test.xyz', 'w') as th:\n",
    "    th.write(system, step=0)\n",
    "\n",
    "# Read the xyz file back as plain text\n",
    "with open('test.xyz') as fh:\n",
    "    print(fh.read())"
   ]
  },
  {
   "cell_type": "markdown",
   "id": "c2cbae12",
   "metadata": {},
   "source": [
    "Note that trajectories are file-like objects: they must be opened and\n",
    "closed, preferably using the `with` syntax.\n",
    "\n",
    "We can write multiple frames by calling `write()` repeatedly.\n"
   ]
  },
  {
   "cell_type": "code",
   "execution_count": null,
   "id": "2010a658",
   "metadata": {},
   "outputs": [],
   "source": [
    "with TrajectoryXYZ('test.xyz', 'w') as th:\n",
    "    for i in range(3):\n",
    "        th.write(system, step=i*10)"
   ]
  },
  {
   "cell_type": "markdown",
   "id": "8d63bf10",
   "metadata": {},
   "source": [
    "To get the system back we read the trajectory. Trajectories support\n",
    "iteration and indexing, just like lists.\n"
   ]
  },
  {
   "cell_type": "code",
   "execution_count": null,
   "id": "175553e5",
   "metadata": {},
   "outputs": [],
   "source": [
    "with TrajectoryXYZ('test.xyz') as th:\n",
    "    # First frame\n",
    "    system = th[0]\n",
    "    print(system.particle[0].position, system.cell.side)\n",
    "\n",
    "    # Last frame\n",
    "    system = th[-1]\n",
    "    print(system.particle[0].position, system.cell.side)\n",
    "\n",
    "    # Iterate over all frames\n",
    "    for i, system in enumerate(th):\n",
    "        print(th.steps[i], system.particle[0].position)"
   ]
  },
  {
   "cell_type": "markdown",
   "id": "d518c9b8",
   "metadata": {},
   "source": [
    "Particles on a lattice\n",
    "----------------------\n",
    "\n",
    "Suppose we want to simulate a system where particles can only be located\n",
    "at discrete sites, say a one-dimensional lattice or perhaps a network\n",
    "with a complex topology. Particle positions can then be described as\n",
    "plain integers, holding the index of the site on which a particle is\n",
    "located. We create such a system and then write it to a file in xyz\n",
    "format\n"
   ]
  },
  {
   "cell_type": "code",
   "execution_count": null,
   "id": "0e115e7e",
   "metadata": {},
   "outputs": [],
   "source": [
    "import numpy\n",
    "from atooms.system import System, Particle\n",
    "\n",
    "# Build model system with integer coordinates\n",
    "particle = [Particle() for i in range(3)]\n",
    "particle[0].position = 0\n",
    "particle[1].position = 1\n",
    "particle[2].position = 2\n",
    "system = System(particle=particle)\n",
    "\n",
    "# Write xyz trajectory\n",
    "from atooms.trajectory import TrajectoryXYZ\n",
    "with TrajectoryXYZ('test.xyz', 'w') as th:\n",
    "    th.write(system, 0)\n",
    "\n",
    "# Read the xyz file back as plain text\n",
    "with open('test.xyz') as fh:\n",
    "    print(fh.read())"
   ]
  },
  {
   "cell_type": "markdown",
   "id": "428128fa",
   "metadata": {},
   "source": [
    "Everything went fine. However, we have to tweak things a bit when\n",
    "reading the particles back, to avoid positions being transformed to\n",
    "arrays of floats instead of integers. This can be done with the help of\n",
    "a callback that transforms the system accordingly as we read the\n",
    "trajectory.\n"
   ]
  },
  {
   "cell_type": "code",
   "execution_count": null,
   "id": "994ce45c",
   "metadata": {},
   "outputs": [],
   "source": [
    "# Read file as an xyz trajectory \n",
    "with TrajectoryXYZ('test.xyz') as th:\n",
    "    # We add a callback to read positions as simple integers\n",
    "    # Otherwise they are read as numpy arrays of floats.\n",
    "    def modify(system):\n",
    "        for p in system.particle:\n",
    "            p.position = int(p.position[0])\n",
    "            p.velocity = None\n",
    "            p.radius = None\n",
    "        return system\n",
    "    th.add_callback(modify)\n",
    "\n",
    "    for p in th[0].particle:\n",
    "        print(p)"
   ]
  }
 ],
 "metadata": {},
 "nbformat": 4,
 "nbformat_minor": 5
}
