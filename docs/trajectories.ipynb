{
 "cells": [
  {
   "cell_type": "markdown",
   "id": "1b6d27d8",
   "metadata": {},
   "source": [
    "Trajectories\n",
    "============\n",
    "\n",
    "Trajectory formats\n",
    "------------------\n",
    "\n",
    "`atooms` supports several trajectory formats, most of them in read and\n",
    "write mode\n"
   ]
  },
  {
   "cell_type": "code",
   "execution_count": null,
   "id": "a856fb6a",
   "metadata": {},
   "outputs": [],
   "source": [
    "from atooms.trajectory import formats\n",
    "\n",
    "print(formats())"
   ]
  },
  {
   "cell_type": "markdown",
   "id": "000a886c",
   "metadata": {},
   "source": [
    "Available trajectory formats:\n",
    "\n",
    "-   dynamo : \\[R \\] DynamO trajectory format\n",
    "    (<https://www.dynamomd.com/index.php/tutorial3>)\n",
    "-   exyz : \\[RW\\] Extended XYZ layout\n",
    "    (<https://github.com/libAtoms/extxyz>)\n",
    "-   folderlammps : \\[R \\] Multi-file layout LAMMPS format.\n",
    "-   gsd : \\[RW\\] Glotzer group\\'s binary GSD format for HOOMD\n",
    "    (<https://glotzerlab.engin.umich.edu/hoomd-blue/>)\n",
    "-   hdf5 : \\[RW\\] In-house trajectory layout in HDF5 format.\n",
    "-   hoomd : \\[RW\\] HOOMD format\n",
    "-   lammps : \\[RW\\] LAMMPS format (<https://docs.lammps.org/dump.html>)\n",
    "-   neighbors : \\[RW\\] Neighbors trajectory format\n",
    "-   pdb : \\[RW\\] PDB format\n",
    "    (<https://en.wikipedia.org/wiki/Protein_Data_Bank_(file_format)>)\n",
    "-   ram : \\[RW\\] Store trajectory in RAM\n",
    "-   rumd : \\[RW\\] RUMD trajectory format (<https://rumd.org>)\n",
    "-   simplexyz : \\[RW\\] Simple implementation of the xyz layout\n",
    "    (<https://en.wikipedia.org/wiki/XYZ_file_format>)\n",
    "-   superrumd : \\[R \\] SuperTrajectory for RUMD format\n",
    "-   xyz : \\[RW\\] XYZ format with metadata support\n",
    "    (<https://en.wikipedia.org/wiki/XYZ_file_format>)\n",
    "\n",
    "Custom trajectory formats\n",
    "-------------------------\n",
    "\n",
    "It is easy to add new trajectory formats by subclassing existing\n",
    "trajectory classes. To make these new classes accessible also to\n",
    "`trj.py`, create a package called `atooms_plugins` and add your\n",
    "trajectory modules there. Suppose you wrote a custom trajectory class\n",
    "`TrajectoryABC` in `atooms_plugins/test.py` (the last path is relative\n",
    "to the current directory). You can now convert an existing xyz\n",
    "trajectory to your custom format:\n"
   ]
  },
  {
   "cell_type": "markdown",
   "id": "7dee37a4",
   "metadata": {},
   "source": [
    "Remember to add an empty `__init__.py` file at the root of\n",
    "`atooms_plugins`. Actually, the `atooms_plugins` package can be put\n",
    "anywhere in your `PYTHONPATH`.\n",
    "\n",
    "Custom trajectory output\n",
    "------------------------\n",
    "\n",
    "We can customize the format of trajectory files using the `fields`\n",
    "variable. It contains a list of the particle properties to be written to\n",
    "the trajectory. For this simple example we use again the xyz trajectory\n",
    "format.\n",
    "\n",
    "We add a `charge` property to each particle and then instruct the\n",
    "trajectory to write it along with the position\n"
   ]
  },
  {
   "cell_type": "code",
   "execution_count": null,
   "id": "9a326635",
   "metadata": {},
   "outputs": [],
   "source": [
    "from atooms.system import System, Cell, Particle\n",
    "system = System(particle=[Particle() for i in range(3)],\n",
    "\t\tcell=Cell([10.0, 10.0, 10.0]))\n",
    "\n",
    "for p in system.particle:\n",
    "    p.charge = -1.0\n",
    "\n",
    "with TrajectoryXYZ('test.xyz', 'w', fields=['position', 'charge']) as th:\n",
    "    th.write(system, step=0)\n",
    "\n",
    "with open('test.xyz') as fh:\n",
    "    print(fh.read())"
   ]
  },
  {
   "cell_type": "markdown",
   "id": "d1ef98de",
   "metadata": {},
   "source": [
    "The `fields` list can contain any particle property, even those defined\n",
    "dynamically at run time, such as the `charge` variable above which is\n",
    "not a predefined particle property!. When reading back the trajectory,\n",
    "the `charge` property is automatically recognized and added to the\n",
    "particle.\n"
   ]
  },
  {
   "cell_type": "code",
   "execution_count": null,
   "id": "8969af23",
   "metadata": {},
   "outputs": [],
   "source": [
    "with TrajectoryXYZ('test.xyz') as th:\n",
    "  system = th[0]\n",
    "  print(system.particle[0].charge)"
   ]
  },
  {
   "cell_type": "markdown",
   "id": "800d3e31",
   "metadata": {},
   "source": [
    "Conversion between trajectory formats\n",
    "-------------------------------------\n",
    "\n",
    "Atooms provides means to convert between trajectory various formats. At\n",
    "a very basic level, this requires opening the original trajectory for\n",
    "reading and the new one for writing using the desired trajectory class.\n",
    "Here we convert an xyz trajectory in a format suitable for the LAMMPS\n",
    "package\n"
   ]
  },
  {
   "cell_type": "code",
   "execution_count": null,
   "id": "c2cc7cae",
   "metadata": {},
   "outputs": [],
   "source": [
    "from atooms.trajectory import TrajectoryLAMMPS\n",
    "with TrajectoryXYZ('test.xyz') as th_inp,\\\n",
    "     TrajectoryLAMMPS('test.lammps', 'w') as th_out:\n",
    "    for i, system in enumerate(th_inp):\n",
    "        th_out.write(system, th_inp.steps[i])"
   ]
  },
  {
   "cell_type": "markdown",
   "id": "69e290c3",
   "metadata": {},
   "source": [
    "The `convert()` function wraps the conversion in a more convenient\n",
    "interface\n"
   ]
  },
  {
   "cell_type": "code",
   "execution_count": null,
   "id": "96371165",
   "metadata": {},
   "outputs": [],
   "source": [
    "from atooms.trajectory import convert\n",
    "convert(TrajectoryXYZ('test.xyz'), TrajectoryLAMMPS, 'test.lammps')"
   ]
  },
  {
   "cell_type": "markdown",
   "id": "bcf0d78c",
   "metadata": {},
   "source": [
    "There are several optional parameters that allows to customize the\n",
    "trajectory output, see the function signature for more details.\n",
    "\n",
    "Finally, the `trj.py` script installed by atooms allows to quickly\n",
    "convert trajectories on the command-line, which is actually the most\n",
    "frequent use case\n"
   ]
  },
  {
   "cell_type": "markdown",
   "id": "b09699ff",
   "metadata": {},
   "source": [
    "Although the script will do its best to guess the appropriate trajectory\n",
    "formats, it is best to provide the input and output trajectory formats\n",
    "via the `-i` and `-o` flags explicitly.\n",
    "\n",
    "Add and modify trajectory properties on the fly with callbacks\n",
    "--------------------------------------------------------------\n",
    "\n",
    "\\\"Callbacks\\\" are functions used to modify the properties of a\n",
    "trajectory on the fly. They accept a `System` instance as first\n",
    "positional argument, along with optional extra positional and keyword\n",
    "arguments, and return a modified `System`.\n",
    "\n",
    "As an example, suppose your trajectory did not provide any information\n",
    "about the cell side. You can add the information dynamically to all\n",
    "`System` objects read from the trajectory using the following callback\n"
   ]
  },
  {
   "cell_type": "code",
   "execution_count": null,
   "id": "7b3d6306",
   "metadata": {},
   "outputs": [],
   "source": [
    "from atooms.system import Cell\n",
    "def fix_missing_cell(system, side):\n",
    "    system.cell = Cell(side)\n",
    "    return system"
   ]
  },
  {
   "cell_type": "markdown",
   "id": "ebfe78c2",
   "metadata": {},
   "source": [
    "Then we add the callback to the trajectory and provide the cell side\n",
    "(here L=10 along each dimensions) as argument. Reading the trajectory is\n",
    "then done as usual.\n"
   ]
  },
  {
   "cell_type": "code",
   "execution_count": null,
   "id": "3bd06da5",
   "metadata": {},
   "outputs": [],
   "source": [
    "from atooms.trajectory import TrajectoryXYZ\n",
    "with TrajectoryXYZ('test.xyz') as th:\n",
    "    th.add_callback(fix_missing_cell, [10., 10., 10.])\n",
    "    for system in th:\n",
    "        print(system.cell.side)"
   ]
  },
  {
   "cell_type": "markdown",
   "id": "5873ca30",
   "metadata": {},
   "source": [
    "Extend trajectory classes\n",
    "-------------------------\n",
    "\n",
    "Suppose you have a trajectory that looks almost like xyz, but differs in\n",
    "some way. You may want to customize the xyz trajectory format, so that\n",
    "your code can process the trajectory without manual intervention.\n",
    "\n",
    "For instance, your xyz file is `test.xyz` but the cell side information\n",
    "is stored in a separate file `test.xyz.cell`. We can proceed as before\n"
   ]
  },
  {
   "cell_type": "code",
   "execution_count": null,
   "id": "8ab68d31",
   "metadata": {},
   "outputs": [],
   "source": [
    "from atooms.system import Cell\n",
    "\n",
    "file_inp = 'test.xyz'\n",
    "with open(file_inp + '.cell') as fh:\n",
    "    # Assume the cell file contains a string Lx Ly Lz\n",
    "    # where Lx, Ly, Lz are the sides of the orthorombic cell\n",
    "    side = [float(L) for L in fh.read().split()]\n",
    "\n",
    "with TrajectoryXYZ(file_inp) as th:\n",
    "    th.add_callback(fix_missing_cell, side)"
   ]
  },
  {
   "cell_type": "markdown",
   "id": "7708c4d4",
   "metadata": {},
   "source": [
    "As a more permanent solution, you can define your own custom trajectory\n",
    "by subclassing `TrajectoryXYZ`. First, parse the cell information during\n",
    "the initialization stage (`read_init()`).\n"
   ]
  },
  {
   "cell_type": "code",
   "execution_count": null,
   "id": "29d7696b",
   "metadata": {},
   "outputs": [],
   "source": [
    "from atooms.system import Cell\n",
    "from atooms.trajectory import TrajectoryXYZ\n",
    "\n",
    "class TrajectoryCustomXYZ(TrajectoryXYZ):\n",
    "\n",
    "    def read_init(self):\n",
    "        super().read_init()\n",
    "        with open(self.filename + '.cell') as fh:\n",
    "            self._side = [float(L) for L in fh.read().split()]"
   ]
  },
  {
   "cell_type": "markdown",
   "id": "a1b6a4a2",
   "metadata": {},
   "source": [
    "Then modify the `read_sample()` method, which reads a given frame of the\n",
    "trajectory.\n"
   ]
  },
  {
   "cell_type": "code",
   "execution_count": null,
   "id": "8f60d9e3",
   "metadata": {},
   "outputs": [],
   "source": [
    "    def read_sample(self, frame):\n",
    "        system = super().read_sample()\n",
    "        system.cell = Cell(self._side)\n",
    "        return system"
   ]
  }
 ],
 "metadata": {},
 "nbformat": 4,
 "nbformat_minor": 5
}
